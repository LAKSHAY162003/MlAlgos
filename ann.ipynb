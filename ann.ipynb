{
 "cells": [
  {
   "cell_type": "code",
   "execution_count": 11,
   "metadata": {},
   "outputs": [
    {
     "name": "stdout",
     "output_type": "stream",
     "text": [
      "Epoch 1/10\n",
      "16/16 [==============================] - 1s 9ms/step - loss: 0.7269 - accuracy: 0.4399 - val_loss: 0.7027 - val_accuracy: 0.5528\n",
      "Epoch 2/10\n",
      "16/16 [==============================] - 0s 3ms/step - loss: 0.6664 - accuracy: 0.6212 - val_loss: 0.6607 - val_accuracy: 0.6423\n",
      "Epoch 3/10\n",
      "16/16 [==============================] - 0s 3ms/step - loss: 0.6221 - accuracy: 0.7128 - val_loss: 0.6288 - val_accuracy: 0.6667\n",
      "Epoch 4/10\n",
      "16/16 [==============================] - 0s 3ms/step - loss: 0.5887 - accuracy: 0.7230 - val_loss: 0.6012 - val_accuracy: 0.6585\n",
      "Epoch 5/10\n",
      "16/16 [==============================] - 0s 3ms/step - loss: 0.5617 - accuracy: 0.7515 - val_loss: 0.5774 - val_accuracy: 0.6667\n",
      "Epoch 6/10\n",
      "16/16 [==============================] - 0s 3ms/step - loss: 0.5418 - accuracy: 0.7536 - val_loss: 0.5610 - val_accuracy: 0.6748\n",
      "Epoch 7/10\n",
      "16/16 [==============================] - 0s 3ms/step - loss: 0.5227 - accuracy: 0.7760 - val_loss: 0.5417 - val_accuracy: 0.7073\n",
      "Epoch 8/10\n",
      "16/16 [==============================] - 0s 3ms/step - loss: 0.5071 - accuracy: 0.7821 - val_loss: 0.5288 - val_accuracy: 0.7236\n",
      "Epoch 9/10\n",
      "16/16 [==============================] - 0s 3ms/step - loss: 0.4947 - accuracy: 0.7800 - val_loss: 0.5165 - val_accuracy: 0.7317\n",
      "Epoch 10/10\n",
      "16/16 [==============================] - 0s 4ms/step - loss: 0.4843 - accuracy: 0.7800 - val_loss: 0.5084 - val_accuracy: 0.7317\n",
      "5/5 [==============================] - 0s 1ms/step\n",
      "Accuracy: 0.7532467532467533\n"
     ]
    }
   ],
   "source": [
    "import tensorflow as tf\n",
    "from keras.models import Sequential\n",
    "from keras.layers import Dense\n",
    "from keras.optimizers import Adam\n",
    "from sklearn.model_selection import train_test_split\n",
    "from sklearn.preprocessing import StandardScaler\n",
    "from sklearn.metrics import accuracy_score\n",
    "import pandas as pd\n",
    "import numpy as np\n",
    "\n",
    "dataset=pd.read_csv(\"archive (4)\\diabetes.csv\")\n",
    "X=dataset.drop(\"Outcome\",axis=1).values\n",
    "y=dataset[\"Outcome\"].values\n",
    "# Assuming X contains your feature matrix and y contains your target variable\n",
    "\n",
    "# Split the data into training and testing sets\n",
    "X_train, X_test, y_train, y_test = train_test_split(X, y, test_size=0.2, random_state=42)\n",
    "\n",
    "# Standardize the features\n",
    "scaler = StandardScaler()\n",
    "X_train_std = scaler.fit_transform(X_train)\n",
    "X_test_std = scaler.transform(X_test)\n",
    "\n",
    "# Define the model\n",
    "model = Sequential()\n",
    "model.add(Dense(units=64, activation='relu', input_dim=X_train_std.shape[1]))  # Hidden layer with 64 neurons\n",
    "model.add(Dense(units=1, activation='sigmoid'))  # Output layer with 1 neuron (binary classification)\n",
    "\n",
    "# Compile the model\n",
    "model.compile(optimizer=Adam(learning_rate=0.001), loss='binary_crossentropy', metrics=['accuracy'])\n",
    "\n",
    "# Train the model\n",
    "model.fit(X_train_std, y_train, epochs=10, batch_size=32, validation_split=0.2)\n",
    "\n",
    "# Make predictions on the test set\n",
    "y_pred_prob = model.predict(X_test_std)\n",
    "\n",
    "# y_pred = (y_pred_prob > 0.5).astype(int)\n",
    "y_pred=[]\n",
    "for i in range(0,len(y_pred_prob)):\n",
    "    if(y_pred_prob[i]>=0.5):\n",
    "        y_pred.append(1)\n",
    "    else:\n",
    "        y_pred.append(0)\n",
    "\n",
    "y_pred=np.array(y_pred)\n",
    "# print(y_pred.shape)\n",
    "# print(y_test.shape)\n",
    "# Evaluate the accuracy\n",
    "accuracy = accuracy_score(y_test, y_pred)\n",
    "print(f'Accuracy: {accuracy}')\n"
   ]
  }
 ],
 "metadata": {
  "kernelspec": {
   "display_name": "Python 3",
   "language": "python",
   "name": "python3"
  },
  "language_info": {
   "codemirror_mode": {
    "name": "ipython",
    "version": 3
   },
   "file_extension": ".py",
   "mimetype": "text/x-python",
   "name": "python",
   "nbconvert_exporter": "python",
   "pygments_lexer": "ipython3",
   "version": "3.11.7"
  }
 },
 "nbformat": 4,
 "nbformat_minor": 2
}
